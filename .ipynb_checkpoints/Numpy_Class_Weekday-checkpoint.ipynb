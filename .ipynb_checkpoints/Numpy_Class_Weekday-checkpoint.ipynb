{
 "cells": [
  {
   "cell_type": "markdown",
   "id": "706cf996",
   "metadata": {},
   "source": [
    "# NumPy in Python:\n",
    "- Arrays\n",
    "\n",
    "\n",
    "# difference between list and arrays\n",
    "- List can accept more than one data type, while Arrays primarily accepts only one data type.\n",
    "- List is an input structure in python while array can make use of third party libraries like numpy, so we can creat an array with out importing numpy"
   ]
  },
  {
   "cell_type": "code",
   "execution_count": 1,
   "id": "cb1451d9",
   "metadata": {},
   "outputs": [],
   "source": [
    "import numpy as np"
   ]
  },
  {
   "cell_type": "markdown",
   "id": "950ccd98",
   "metadata": {},
   "source": [
    "# Creation of NumPy Array\n",
    "- Syntax\n",
    "- np.array(object,ndmin,dtype)\n",
    "- object: list/tuple\n",
    "- ndmin: minimum number of dimension\n",
    "- dyte: int, float, complex\n"
   ]
  },
  {
   "cell_type": "code",
   "execution_count": 2,
   "id": "de167686",
   "metadata": {},
   "outputs": [
    {
     "name": "stdout",
     "output_type": "stream",
     "text": [
      "[7 8 9]\n"
     ]
    }
   ],
   "source": [
    "list1 = [7,8,9]\n",
    "arr = np.array(list1)\n",
    "print(arr)"
   ]
  },
  {
   "cell_type": "code",
   "execution_count": 3,
   "id": "bbf8fa02",
   "metadata": {},
   "outputs": [
    {
     "data": {
      "text/plain": [
       "numpy.ndarray"
      ]
     },
     "execution_count": 3,
     "metadata": {},
     "output_type": "execute_result"
    }
   ],
   "source": [
    "type(arr)"
   ]
  },
  {
   "cell_type": "code",
   "execution_count": 5,
   "id": "6c87c148",
   "metadata": {},
   "outputs": [
    {
     "name": "stdout",
     "output_type": "stream",
     "text": [
      "[23 25 27 30]\n"
     ]
    }
   ],
   "source": [
    "# Creation of one dimensional array\n",
    "x = [23,25,27,30]\n",
    "arr = np.array(x)\n",
    "print(arr)"
   ]
  },
  {
   "cell_type": "code",
   "execution_count": 6,
   "id": "d7cb80e7",
   "metadata": {},
   "outputs": [
    {
     "name": "stdout",
     "output_type": "stream",
     "text": [
      "[[ 5  6 10 13 14]]\n"
     ]
    }
   ],
   "source": [
    "# Creation of  teo dimensional array from one dimensional list\n",
    "import numpy as np\n",
    "list2 = [5,6,10,13,14]\n",
    "arr = np.array(list2,ndmin = 2,dtype = int)\n",
    "print(arr)"
   ]
  },
  {
   "cell_type": "code",
   "execution_count": 7,
   "id": "7710444d",
   "metadata": {},
   "outputs": [
    {
     "name": "stdout",
     "output_type": "stream",
     "text": [
      "2\n"
     ]
    }
   ],
   "source": [
    "# To check the number of dimension of array\n",
    "print(arr.ndim)"
   ]
  },
  {
   "cell_type": "code",
   "execution_count": 8,
   "id": "df0da1f1",
   "metadata": {},
   "outputs": [
    {
     "name": "stdout",
     "output_type": "stream",
     "text": [
      "[[[20 24 25 26 27]]]\n"
     ]
    }
   ],
   "source": [
    "# From 1 dimensional list, create for 3 dimensional array\n",
    "userAge = [20,24,25,26,27]\n",
    "arr = np.array(userAge,ndmin =3, dtype = int)\n",
    "print(arr)"
   ]
  },
  {
   "cell_type": "code",
   "execution_count": 9,
   "id": "4f0fc9b4",
   "metadata": {},
   "outputs": [
    {
     "name": "stdout",
     "output_type": "stream",
     "text": [
      "3\n"
     ]
    }
   ],
   "source": [
    "print(arr.ndim)"
   ]
  },
  {
   "cell_type": "code",
   "execution_count": 10,
   "id": "4947b070",
   "metadata": {},
   "outputs": [
    {
     "name": "stdout",
     "output_type": "stream",
     "text": [
      "[[[20.+0.j 24.+0.j 25.+0.j 26.+0.j 27.+0.j]]]\n"
     ]
    }
   ],
   "source": [
    "# From 1 dimensional list, create for 3 dimensional array using COMPLEX\n",
    "userAge = [20,24,25,26,27]\n",
    "arr = np.array(userAge,ndmin =3, dtype = complex)\n",
    "print(arr)"
   ]
  },
  {
   "cell_type": "code",
   "execution_count": 11,
   "id": "aecd20db",
   "metadata": {},
   "outputs": [
    {
     "name": "stdout",
     "output_type": "stream",
     "text": [
      "3\n"
     ]
    }
   ],
   "source": [
    "print(arr.ndim)"
   ]
  },
  {
   "cell_type": "code",
   "execution_count": 17,
   "id": "15918901",
   "metadata": {},
   "outputs": [
    {
     "name": "stdout",
     "output_type": "stream",
     "text": [
      "[[[201, 202, 203, 204, 204]]]\n"
     ]
    }
   ],
   "source": [
    "# converting Three Dimensional list to 3 dimensional array\n",
    "userId = [[[201,202,203,204,204]]]\n",
    "print(userId)"
   ]
  },
  {
   "cell_type": "code",
   "execution_count": 16,
   "id": "3f4a8d6c",
   "metadata": {},
   "outputs": [
    {
     "name": "stdout",
     "output_type": "stream",
     "text": [
      "[[[201 202 203 204 204]]]\n"
     ]
    }
   ],
   "source": [
    "# Create a 3 dimensional array from userId\n",
    "arr1 = np.array(userId)\n",
    "print(arr1)"
   ]
  },
  {
   "cell_type": "code",
   "execution_count": 15,
   "id": "9e7d08c7",
   "metadata": {},
   "outputs": [
    {
     "name": "stdout",
     "output_type": "stream",
     "text": [
      "3\n"
     ]
    }
   ],
   "source": [
    "print(arr1.ndim)"
   ]
  },
  {
   "cell_type": "code",
   "execution_count": 20,
   "id": "6de3b9b6",
   "metadata": {},
   "outputs": [
    {
     "name": "stdout",
     "output_type": "stream",
     "text": [
      "[30 32 33 34 35]\n"
     ]
    }
   ],
   "source": [
    "# Create a one dimensional array from a three dimensional list\n",
    "userAge = [[[30,32,33,34,35]]]\n",
    "arr2 = np.array(userAge).flatten()\n",
    "print(arr2)"
   ]
  },
  {
   "cell_type": "code",
   "execution_count": 21,
   "id": "e998f961",
   "metadata": {},
   "outputs": [
    {
     "name": "stdout",
     "output_type": "stream",
     "text": [
      "1\n"
     ]
    }
   ],
   "source": [
    "print(arr2.ndim)"
   ]
  },
  {
   "cell_type": "code",
   "execution_count": 29,
   "id": "2e55d0cc",
   "metadata": {},
   "outputs": [],
   "source": [
    "# Mathematical functions in NumPy array\n",
    "list1 =[3,5,6,7]\n"
   ]
  },
  {
   "cell_type": "code",
   "execution_count": 31,
   "id": "288feb9f",
   "metadata": {},
   "outputs": [
    {
     "name": "stdout",
     "output_type": "stream",
     "text": [
      "30\n",
      "50\n",
      "60\n",
      "70\n"
     ]
    }
   ],
   "source": [
    "# Step 1 of multiplying by 10\n",
    "for i in list1:\n",
    "    print(i*10)"
   ]
  },
  {
   "cell_type": "code",
   "execution_count": 33,
   "id": "0ec08236",
   "metadata": {},
   "outputs": [
    {
     "data": {
      "text/plain": [
       "array([30, 50, 60, 70])"
      ]
     },
     "execution_count": 33,
     "metadata": {},
     "output_type": "execute_result"
    }
   ],
   "source": [
    "# Step 2 of multiplying by 10\n",
    "arr = np.array(list1)\n",
    "arr*10"
   ]
  },
  {
   "cell_type": "code",
   "execution_count": 34,
   "id": "1b03e312",
   "metadata": {},
   "outputs": [
    {
     "data": {
      "text/plain": [
       "array([100, 110, 115, 120, 125])"
      ]
     },
     "execution_count": 34,
     "metadata": {},
     "output_type": "execute_result"
    }
   ],
   "source": [
    "# create an array and multiply it by 5 from the list below\n",
    "studentsId = [20,22,23,24,25]\n",
    "arr = np.array(studentsId)\n",
    "arr*5"
   ]
  },
  {
   "cell_type": "markdown",
   "id": "b468c3ac",
   "metadata": {},
   "source": [
    "# Routines in NumPy Array : some operations we perform in numpy to return a specific value\n",
    "- np.zeros\n",
    "- syntax: np.array(shape,dtype)\n",
    "- np.ones"
   ]
  },
  {
   "cell_type": "code",
   "execution_count": 35,
   "id": "04dd7ff2",
   "metadata": {},
   "outputs": [
    {
     "name": "stdout",
     "output_type": "stream",
     "text": [
      "[0. 0.]\n"
     ]
    }
   ],
   "source": [
    "arr = np.zeros(2)\n",
    "print(arr)"
   ]
  },
  {
   "cell_type": "code",
   "execution_count": 36,
   "id": "639200b5",
   "metadata": {},
   "outputs": [
    {
     "data": {
      "text/plain": [
       "array([[0., 0., 0.],\n",
       "       [0., 0., 0.]])"
      ]
     },
     "execution_count": 36,
     "metadata": {},
     "output_type": "execute_result"
    }
   ],
   "source": [
    "# Creation of array of 2-rows and 3-columns\n",
    "arr2 = np.zeros([2,3])\n",
    "arr2"
   ]
  },
  {
   "cell_type": "code",
   "execution_count": 37,
   "id": "55b55642",
   "metadata": {},
   "outputs": [
    {
     "name": "stdout",
     "output_type": "stream",
     "text": [
      "2\n"
     ]
    }
   ],
   "source": [
    "print(arr2.ndim)"
   ]
  },
  {
   "cell_type": "code",
   "execution_count": 40,
   "id": "8b44897b",
   "metadata": {},
   "outputs": [
    {
     "data": {
      "text/plain": [
       "array([[[0., 0., 0., 0., 0.],\n",
       "        [0., 0., 0., 0., 0.]],\n",
       "\n",
       "       [[0., 0., 0., 0., 0.],\n",
       "        [0., 0., 0., 0., 0.]],\n",
       "\n",
       "       [[0., 0., 0., 0., 0.],\n",
       "        [0., 0., 0., 0., 0.]]])"
      ]
     },
     "execution_count": 40,
     "metadata": {},
     "output_type": "execute_result"
    }
   ],
   "source": [
    "# Array of 3 dimensions with 2-rows and 5-columns. it also have 3-appearance\n",
    "arr = np.zeros([3,2,5])\n",
    "arr"
   ]
  },
  {
   "cell_type": "code",
   "execution_count": 39,
   "id": "eaf9db2c",
   "metadata": {},
   "outputs": [
    {
     "name": "stdout",
     "output_type": "stream",
     "text": [
      "3\n"
     ]
    }
   ],
   "source": [
    "print(arr.ndim)"
   ]
  },
  {
   "cell_type": "code",
   "execution_count": 41,
   "id": "42d5ac48",
   "metadata": {},
   "outputs": [
    {
     "data": {
      "text/plain": [
       "array([[[0., 0., 0.],\n",
       "        [0., 0., 0.],\n",
       "        [0., 0., 0.]],\n",
       "\n",
       "       [[0., 0., 0.],\n",
       "        [0., 0., 0.],\n",
       "        [0., 0., 0.]],\n",
       "\n",
       "       [[0., 0., 0.],\n",
       "        [0., 0., 0.],\n",
       "        [0., 0., 0.]],\n",
       "\n",
       "       [[0., 0., 0.],\n",
       "        [0., 0., 0.],\n",
       "        [0., 0., 0.]]])"
      ]
     },
     "execution_count": 41,
     "metadata": {},
     "output_type": "execute_result"
    }
   ],
   "source": [
    "# Create a routine array of zeros having 4-appearance, 3- rows and 3-columns\n",
    "arr2 =np.zeros([4,3,3])\n",
    "arr2"
   ]
  },
  {
   "cell_type": "code",
   "execution_count": 42,
   "id": "acda46c9",
   "metadata": {},
   "outputs": [
    {
     "data": {
      "text/plain": [
       "array([1., 1., 1., 1., 1.])"
      ]
     },
     "execution_count": 42,
     "metadata": {},
     "output_type": "execute_result"
    }
   ],
   "source": [
    "arr1 = np.ones(5)\n",
    "arr1"
   ]
  },
  {
   "cell_type": "code",
   "execution_count": 45,
   "id": "c0e30a37",
   "metadata": {
    "scrolled": true
   },
   "outputs": [
    {
     "data": {
      "text/plain": [
       "array([[[1., 1., 1., 1.],\n",
       "        [1., 1., 1., 1.],\n",
       "        [1., 1., 1., 1.]],\n",
       "\n",
       "       [[1., 1., 1., 1.],\n",
       "        [1., 1., 1., 1.],\n",
       "        [1., 1., 1., 1.]]])"
      ]
     },
     "execution_count": 45,
     "metadata": {},
     "output_type": "execute_result"
    }
   ],
   "source": [
    "arr2 = np.ones([2,3,4])\n",
    "arr2"
   ]
  },
  {
   "cell_type": "code",
   "execution_count": 50,
   "id": "61eaadc5",
   "metadata": {},
   "outputs": [
    {
     "data": {
      "text/plain": [
       "array([[[1., 1., 1., 1.],\n",
       "        [1., 1., 1., 1.],\n",
       "        [1., 1., 1., 1.],\n",
       "        [1., 1., 1., 1.]],\n",
       "\n",
       "       [[1., 1., 1., 1.],\n",
       "        [1., 1., 1., 1.],\n",
       "        [1., 1., 1., 1.],\n",
       "        [1., 1., 1., 1.]],\n",
       "\n",
       "       [[1., 1., 1., 1.],\n",
       "        [1., 1., 1., 1.],\n",
       "        [1., 1., 1., 1.],\n",
       "        [1., 1., 1., 1.]]])"
      ]
     },
     "execution_count": 50,
     "metadata": {},
     "output_type": "execute_result"
    }
   ],
   "source": [
    "# Create a routine arrays of ones with 3 dimensional arrays, and it has the same number of rows and columns\n",
    "arr4 = np.ones([3,4,4])\n",
    "arr4"
   ]
  },
  {
   "cell_type": "markdown",
   "id": "203530da",
   "metadata": {},
   "source": [
    "# NumPy from Ranges\n",
    "- syntax = numpy.arange(start,stop.step,dtype)"
   ]
  },
  {
   "cell_type": "code",
   "execution_count": 53,
   "id": "66ea23fb",
   "metadata": {},
   "outputs": [
    {
     "name": "stdout",
     "output_type": "stream",
     "text": [
      "2\n",
      "3\n",
      "4\n",
      "5\n",
      "6\n",
      "7\n",
      "8\n"
     ]
    }
   ],
   "source": [
    "for number in range(2,9):\n",
    "    print(number)"
   ]
  },
  {
   "cell_type": "code",
   "execution_count": 56,
   "id": "05daf49d",
   "metadata": {},
   "outputs": [
    {
     "name": "stdout",
     "output_type": "stream",
     "text": [
      "[0 1 2 3 4]\n"
     ]
    }
   ],
   "source": [
    "x = np.arange(5)\n",
    "print(x)"
   ]
  },
  {
   "cell_type": "code",
   "execution_count": null,
   "id": "baa319f8",
   "metadata": {},
   "outputs": [],
   "source": []
  }
 ],
 "metadata": {
  "kernelspec": {
   "display_name": "Python 3 (ipykernel)",
   "language": "python",
   "name": "python3"
  },
  "language_info": {
   "codemirror_mode": {
    "name": "ipython",
    "version": 3
   },
   "file_extension": ".py",
   "mimetype": "text/x-python",
   "name": "python",
   "nbconvert_exporter": "python",
   "pygments_lexer": "ipython3",
   "version": "3.9.13"
  }
 },
 "nbformat": 4,
 "nbformat_minor": 5
}
