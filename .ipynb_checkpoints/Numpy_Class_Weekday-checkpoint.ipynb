{
 "cells": [
  {
   "cell_type": "markdown",
   "id": "11afb103",
   "metadata": {},
   "source": [
    "# NumPy in Python:\n",
    "- Arrays\n",
    "\n",
    "\n",
    "# difference between list and arrays\n",
    "- List can accept more than one data type, while Arrays primarily accepts only one data type.\n",
    "- List is an input structure in python while array can make use of third party libraries like numpy, so we can creat an array with out importing numpy"
   ]
  },
  {
   "cell_type": "code",
   "execution_count": 1,
   "id": "db053171",
   "metadata": {},
   "outputs": [],
   "source": [
    "import numpy as np"
   ]
  },
  {
   "cell_type": "markdown",
   "id": "debcf4c9",
   "metadata": {},
   "source": [
    "# Creation of NumPy Array\n",
    "- Syntax\n",
    "- np.array(object,ndmin,dtype)\n",
    "- object: list/tuple\n",
    "- ndmin: minimum number of dimension\n",
    "- dyte: int, float, complex\n"
   ]
  },
  {
   "cell_type": "code",
   "execution_count": 2,
   "id": "68137e51",
   "metadata": {},
   "outputs": [
    {
     "name": "stdout",
     "output_type": "stream",
     "text": [
      "[7 8 9]\n"
     ]
    }
   ],
   "source": [
    "list1 = [7,8,9]\n",
    "arr = np.array(list1)\n",
    "print(arr)"
   ]
  },
  {
   "cell_type": "code",
   "execution_count": 3,
   "id": "6ce118b4",
   "metadata": {},
   "outputs": [
    {
     "data": {
      "text/plain": [
       "numpy.ndarray"
      ]
     },
     "execution_count": 3,
     "metadata": {},
     "output_type": "execute_result"
    }
   ],
   "source": [
    "type(arr)"
   ]
  },
  {
   "cell_type": "code",
   "execution_count": null,
   "id": "b9035e06",
   "metadata": {},
   "outputs": [],
   "source": [
    "# Creation of one dimensional array\n",
    "x = []"
   ]
  }
 ],
 "metadata": {
  "kernelspec": {
   "display_name": "Python 3 (ipykernel)",
   "language": "python",
   "name": "python3"
  },
  "language_info": {
   "codemirror_mode": {
    "name": "ipython",
    "version": 3
   },
   "file_extension": ".py",
   "mimetype": "text/x-python",
   "name": "python",
   "nbconvert_exporter": "python",
   "pygments_lexer": "ipython3",
   "version": "3.9.13"
  }
 },
 "nbformat": 4,
 "nbformat_minor": 5
}
